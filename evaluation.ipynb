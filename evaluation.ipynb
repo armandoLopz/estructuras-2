{
 "cells": [
  {
   "cell_type": "markdown",
   "metadata": {},
   "source": [
    "# Ejercicio de Búsqueda de Camino con Algoritmo A*\n",
    "\n",
    "**Estructuras discretas 2**\n",
    "\n",
    "**Integrantes:** Armando Lopez 29.911.900 y Leonardo Vetri 27.307.015.\n",
    "\n",
    "**Objetivo:** Encontrar el camino más corto entre la Ciudad 1 (inicio) y la Ciudad 8 (meta) utilizando el algoritmo A*, dadas las distancias por carretera entre ciudades y una estimación heurística (distancia aérea) a la meta."
   ]
  },
  {
   "cell_type": "markdown",
   "metadata": {},
   "source": [
    "## Resumen del Algoritmo A*\n",
    "\n",
    "El algoritmo A* (A estrella) es un algoritmo de búsqueda informada utilizado para encontrar el camino de menor costo entre un nodo inicial y un nodo meta en un grafo.\n",
    "\n",
    "**Características Principales:**\n",
    "\n",
    "1.  **Función de Evaluación:** Utiliza una función $f(n)$ para estimar el costo total de un camino que pasa por el nodo $n$. Se calcula como:\n",
    "    $f(n) = g(n) + h(n)$\n",
    "    donde:\n",
    "    * $g(n)$: Es el costo *real* del camino desde el nodo inicial hasta el nodo $n$.\n",
    "    * $h(n)$: Es el costo *estimado* (heurístico) desde el nodo $n$ hasta el nodo meta. La calidad de la heurística influye en la eficiencia del algoritmo.\n",
    "2.  **Listas:** Mantiene dos listas principales:\n",
    "    * **Lista Abierta (Open List):** Contiene los nodos que han sido descubiertos pero aún no evaluados (expandidos). Generalmente se implementa como una cola de prioridad, ordenada por el valor $f(n)$ (menor $f$ tiene mayor prioridad).\n",
    "    * **Lista Cerrada (Closed List):** Contiene los nodos que ya han sido evaluados. Evita procesar nodos repetidamente.\n",
    "3.  **Proceso:**\n",
    "    * Comienza con el nodo inicial en la Lista Abierta.\n",
    "    * En cada paso, extrae el nodo con el menor valor $f(n)$ de la Lista Abierta.\n",
    "    * Si es el nodo meta, reconstruye el camino y termina.\n",
    "    * Si no, lo mueve a la Lista Cerrada y expande sus vecinos:\n",
    "        * Calcula los costos $g(n)$ y $f(n)$ para cada vecino.\n",
    "        * Si un vecino no está en la Lista Abierta o Cerrada, o si se encuentra un camino mejor hacia él, se añade/actualiza en la Lista Abierta."
   ]
  },
  {
   "cell_type": "markdown",
   "metadata": {},
   "source": [
    "## Ejercicio propuesto (Nro 6) \n",
    "\n",
    "<div align=\"center\">\n",
    "    <img src=\"image.png\">\n",
    "</div>"
   ]
  },
  {
   "cell_type": "markdown",
   "metadata": {},
   "source": [
    "## Datos del Problema\n",
    "\n",
    "Se nos proporcionan dos conjuntos de datos:\n",
    "1.  Las distancias reales por carretera entre ciudades conectadas.\n",
    "2.  Una estimación heurística: la distancia aérea en línea recta desde cada ciudad hasta la ciudad meta (Ciudad 8)."
   ]
  },
  {
   "cell_type": "code",
   "execution_count": null,
   "metadata": {
    "vscode": {
     "languageId": "plaintext"
    }
   },
   "outputs": [],
   "source": [
    "# 1. Distancias por Carretera (Representación del Grafo)\n",
    "# Usamos un diccionario donde cada clave es una ciudad y su valor\n",
    "# es otro diccionario con las ciudades vecinas y la distancia a ellas.\n",
    "graph = {\n",
    "    1: {2: 200},\n",
    "    2: {1: 200, 3: 150, 4: 350, 5: 450},\n",
    "    3: {2: 150, 5: 400, 6: 225},\n",
    "    4: {2: 350, 5: 300},\n",
    "    5: {2: 450, 3: 400, 4: 300, 7: 250},\n",
    "    6: {3: 225, 7: 450},\n",
    "    7: {5: 250, 6: 450, 8: 125},\n",
    "    8: {7: 125} # La ciudad 8 solo tiene conexión de vuelta a la 7 según la tabla\n",
    "}\n",
    "\n",
    "# 2. Distancias Heurísticas (Estimación a la Ciudad 8)\n",
    "# Diccionario que mapea cada ciudad a su distancia aérea estimada a la meta (8).\n",
    "heuristics = {\n",
    "    1: 800,\n",
    "    2: 650,\n",
    "    3: 500,\n",
    "    4: 650,\n",
    "    5: 325,\n",
    "    6: 375,\n",
    "    7: 125,\n",
    "    8: 0  # La distancia heurística desde la meta a sí misma es siempre 0\n",
    "}\n",
    "\n",
    "# 3. Nodo Inicial y Nodo Meta\n",
    "start_city = 1\n",
    "goal_city = 8\n",
    "\n",
    "print(\"Datos cargados:\")\n",
    "print(f\"Grafo (conexiones y distancias): {graph}\")\n",
    "print(f\"Heurísticas (distancia estimada a {goal_city}): {heuristics}\")\n",
    "print(f\"Ciudad Inicial: {start_city}\")\n",
    "print(f\"Ciudad Meta: {goal_city}\")"
   ]
  },
  {
   "cell_type": "code",
   "execution_count": null,
   "metadata": {
    "vscode": {
     "languageId": "plaintext"
    }
   },
   "outputs": [],
   "source": [
    "import heapq # Biblioteca para implementar la cola de prioridad (Lista Abierta)\n",
    "\n",
    "def a_star_search(graph, start_node, goal_node, heuristics):\n",
    "    \"\"\"\n",
    "    Implementa el algoritmo A* para encontrar el camino más corto.\n",
    "\n",
    "    Args:\n",
    "        graph (dict): El grafo representado como {nodo: {vecino: costo}}.\n",
    "        start_node: El nodo inicial.\n",
    "        goal_node: El nodo meta.\n",
    "        heuristics (dict): Un diccionario con la heurística {nodo: h_costo}.\n",
    "\n",
    "    Returns:\n",
    "        tuple: (camino, costo_total) o (None, float('inf')) si no hay camino.\n",
    "    \"\"\"\n",
    "    # Lista Abierta (cola de prioridad): almacena tuplas (f_costo, nodo_actual).\n",
    "    # El costo f inicial para el nodo de inicio es g(inicio)+h(inicio) = 0 + h(inicio)\n",
    "    open_list_pq = []\n",
    "    heapq.heappush(open_list_pq, (heuristics[start_node], start_node))\n",
    "\n",
    "    # Lista Cerrada: conjunto de nodos ya visitados/expandidos.\n",
    "    closed_list = set()\n",
    "\n",
    "    # Diccionario para reconstruir el camino: almacena {nodo: nodo_padre_en_el_camino}.\n",
    "    came_from = {}\n",
    "\n",
    "    # Diccionario para almacenar el costo g(n) (costo real desde inicio hasta n).\n",
    "    # Inicializa todos los costos g como infinito, excepto el nodo inicial (g=0).\n",
    "    g_costs = {node: float('inf') for node in graph}\n",
    "    if start_node not in g_costs: # Asegurar que el start_node está en g_costs\n",
    "         g_costs[start_node] = float('inf')\n",
    "    g_costs[start_node] = 0\n",
    "\n",
    "\n",
    "    # Bucle principal del algoritmo A*\n",
    "    while open_list_pq: # Mientras la lista abierta no esté vacía\n",
    "\n",
    "        # 1. Extraer el nodo con el menor f_costo de la lista abierta\n",
    "        # heapq.heappop devuelve la tupla con el menor primer elemento (f_costo)\n",
    "        current_f, current_node = heapq.heappop(open_list_pq)\n",
    "\n",
    "        # (Optimización opcional): Si encontramos este nodo antes con un costo f menor,\n",
    "        # podríamos ignorarlo, pero A* maneja esto correctamente al verificar g_costs más adelante.\n",
    "\n",
    "        # 2. Comprobar si hemos llegado al nodo meta\n",
    "        if current_node == goal_node:\n",
    "            # ¡Éxito! Reconstruir el camino desde la meta hacia atrás usando came_from\n",
    "            path = []\n",
    "            temp = current_node\n",
    "            # Mientras el nodo actual tenga un padre registrado en came_from\n",
    "            while temp in came_from:\n",
    "                path.append(temp)\n",
    "                temp = came_from[temp]\n",
    "            path.append(start_node) # Añadir el nodo inicial al final\n",
    "            return path[::-1], g_costs[goal_node] # Devolver el camino invertido y el costo g final\n",
    "\n",
    "        # 3. Mover el nodo actual a la lista cerrada (ya lo hemos procesado)\n",
    "        closed_list.add(current_node)\n",
    "\n",
    "        # 4. Explorar los vecinos del nodo actual\n",
    "        # Verificar si el nodo actual tiene vecinos definidos en el grafo\n",
    "        if current_node in graph:\n",
    "            for neighbor, distance in graph[current_node].items():\n",
    "\n",
    "                # Ignorar vecinos que ya están en la lista cerrada\n",
    "                if neighbor in closed_list:\n",
    "                    continue\n",
    "\n",
    "                # Calcular el costo g tentativo para ir al vecino a través del nodo actual\n",
    "                # g(vecino) = g(actual) + costo(actual -> vecino)\n",
    "                tentative_g = g_costs[current_node] + distance\n",
    "\n",
    "                # Si este camino hacia el vecino es mejor (más corto) que cualquier\n",
    "                # camino previamente registrado para él...\n",
    "                if tentative_g < g_costs.get(neighbor, float('inf')): # Usar .get para manejar nodos no vistos aún\n",
    "                    # Actualizar la información del vecino:\n",
    "                    came_from[neighbor] = current_node # Registrar que llegamos al vecino desde el nodo actual\n",
    "                    g_costs[neighbor] = tentative_g     # Actualizar su costo g\n",
    "                    # Calcular el costo f del vecino: f = g + h\n",
    "                    f_cost = tentative_g + heuristics.get(neighbor, float('inf')) # Usar .get por si falta heurística (aunque no debería)\n",
    "                    # Añadir el vecino a la lista abierta para su futura evaluación\n",
    "                    heapq.heappush(open_list_pq, (f_cost, neighbor))\n",
    "\n",
    "    # Si el bucle termina (lista abierta vacía) y no se encontró la meta, no hay camino.\n",
    "    return None, float('inf')\n",
    "\n",
    "print(\"Función a_star_search definida.\")"
   ]
  },
  {
   "cell_type": "code",
   "execution_count": null,
   "metadata": {
    "vscode": {
     "languageId": "plaintext"
    }
   },
   "outputs": [],
   "source": [
    "# Ejecutar la búsqueda A* con los datos definidos\n",
    "print(f\"Iniciando búsqueda A* desde {start_city} hasta {goal_city}...\")\n",
    "path, total_cost = a_star_search(graph, start_city, goal_city, heuristics)\n",
    "print(\"Búsqueda finalizada.\")\n",
    "\n",
    "# Mostrar los resultados\n",
    "if path:\n",
    "    print(\"-\" * 30)\n",
    "    print(\"Resultado de la Búsqueda A*:\")\n",
    "    print(f\"  Camino encontrado: {' -> '.join(map(str, path))}\")\n",
    "    print(f\"  Costo total del camino: {total_cost}\")\n",
    "    print(\"-\" * 30)\n",
    "else:\n",
    "    print(f\"\\nNo se pudo encontrar un camino desde la ciudad {start_city} hasta la ciudad {goal_city}.\")"
   ]
  },
  {
   "cell_type": "markdown",
   "metadata": {},
   "source": [
    "## Análisis del Resultado\n",
    "\n",
    "El algoritmo A* exploró las posibles rutas desde la Ciudad 1. En cada paso, eligió expandir la ciudad que minimizaba la suma del costo real recorrido desde el inicio ($g(n)$) y la distancia aérea estimada hasta la meta ($h(n)$).\n",
    "\n",
    "* La **distancia por carretera ($g(n)$)** asegura que el costo acumulado sea realista.\n",
    "* La **heurística aérea ($h(n)$)** guía la búsqueda hacia la dirección general de la meta (Ciudad 8), evitando explorar caminos que claramente se alejan demasiado.\n",
    "\n",
    "**El camino encontrado** (`1 -> 2 -> 3 -> 6 -> 7 -> 8`)\n",
    "\n",
    "**Costo toal de la ruta** es de: 1025\n"
   ]
  }
 ],
 "metadata": {
  "kernelspec": {
   "display_name": "Python 3 (ipykernel)",
   "language": "python",
   "name": "python3"
  },
  "language_info": {
   "codemirror_mode": {
    "name": "ipython",
    "version": 3
   },
   "file_extension": ".py",
   "mimetype": "text/x-python",
   "name": "python",
   "nbconvert_exporter": "python",
   "pygments_lexer": "ipython3",
   "version": "3.12.3"
  }
 },
 "nbformat": 4,
 "nbformat_minor": 4
}
